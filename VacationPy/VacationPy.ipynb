{
 "cells": [
  {
   "cell_type": "markdown",
   "metadata": {},
   "source": [
    "# VacationPy\n",
    "----"
   ]
  },
  {
   "cell_type": "code",
   "execution_count": 1,
   "metadata": {},
   "outputs": [],
   "source": [
    "# Dependencies and Setup\n",
    "import matplotlib.pyplot as plt\n",
    "import pandas as pd\n",
    "import numpy as np\n",
    "import requests\n",
    "import gmaps\n",
    "import os\n",
    "import warnings\n",
    "warnings.filterwarnings('ignore')\n",
    "\n",
    "# Import API key\n",
    "from config import g_key"
   ]
  },
  {
   "cell_type": "markdown",
   "metadata": {},
   "source": [
    "### Store WeatherPy results into DataFrame"
   ]
  },
  {
   "cell_type": "code",
   "execution_count": 2,
   "metadata": {},
   "outputs": [
    {
     "data": {
      "text/html": [
       "<div>\n",
       "<style scoped>\n",
       "    .dataframe tbody tr th:only-of-type {\n",
       "        vertical-align: middle;\n",
       "    }\n",
       "\n",
       "    .dataframe tbody tr th {\n",
       "        vertical-align: top;\n",
       "    }\n",
       "\n",
       "    .dataframe thead th {\n",
       "        text-align: right;\n",
       "    }\n",
       "</style>\n",
       "<table border=\"1\" class=\"dataframe\">\n",
       "  <thead>\n",
       "    <tr style=\"text-align: right;\">\n",
       "      <th></th>\n",
       "      <th>City</th>\n",
       "      <th>Lat</th>\n",
       "      <th>Lng</th>\n",
       "      <th>Max Temp</th>\n",
       "      <th>Humidity</th>\n",
       "      <th>Cloudiness</th>\n",
       "      <th>Wind Speed</th>\n",
       "      <th>Country</th>\n",
       "      <th>Date</th>\n",
       "    </tr>\n",
       "  </thead>\n",
       "  <tbody>\n",
       "    <tr>\n",
       "      <th>0</th>\n",
       "      <td>Pevek</td>\n",
       "      <td>69.70</td>\n",
       "      <td>170.31</td>\n",
       "      <td>54.82</td>\n",
       "      <td>66</td>\n",
       "      <td>89</td>\n",
       "      <td>9.44</td>\n",
       "      <td>RU</td>\n",
       "      <td>1595802360</td>\n",
       "    </tr>\n",
       "    <tr>\n",
       "      <th>1</th>\n",
       "      <td>Quang Ngai</td>\n",
       "      <td>15.12</td>\n",
       "      <td>108.80</td>\n",
       "      <td>75.87</td>\n",
       "      <td>87</td>\n",
       "      <td>8</td>\n",
       "      <td>4.29</td>\n",
       "      <td>VN</td>\n",
       "      <td>1595802496</td>\n",
       "    </tr>\n",
       "    <tr>\n",
       "      <th>2</th>\n",
       "      <td>Laas</td>\n",
       "      <td>46.62</td>\n",
       "      <td>10.70</td>\n",
       "      <td>57.99</td>\n",
       "      <td>93</td>\n",
       "      <td>51</td>\n",
       "      <td>3.36</td>\n",
       "      <td>IT</td>\n",
       "      <td>1595802496</td>\n",
       "    </tr>\n",
       "    <tr>\n",
       "      <th>3</th>\n",
       "      <td>Isangel</td>\n",
       "      <td>-19.55</td>\n",
       "      <td>169.27</td>\n",
       "      <td>77.00</td>\n",
       "      <td>83</td>\n",
       "      <td>40</td>\n",
       "      <td>11.41</td>\n",
       "      <td>VU</td>\n",
       "      <td>1595802273</td>\n",
       "    </tr>\n",
       "    <tr>\n",
       "      <th>4</th>\n",
       "      <td>Bluff</td>\n",
       "      <td>-46.60</td>\n",
       "      <td>168.33</td>\n",
       "      <td>39.00</td>\n",
       "      <td>83</td>\n",
       "      <td>0</td>\n",
       "      <td>3.00</td>\n",
       "      <td>NZ</td>\n",
       "      <td>1595802229</td>\n",
       "    </tr>\n",
       "  </tbody>\n",
       "</table>\n",
       "</div>"
      ],
      "text/plain": [
       "         City    Lat     Lng  Max Temp  Humidity  Cloudiness  Wind Speed  \\\n",
       "0       Pevek  69.70  170.31     54.82        66          89        9.44   \n",
       "1  Quang Ngai  15.12  108.80     75.87        87           8        4.29   \n",
       "2        Laas  46.62   10.70     57.99        93          51        3.36   \n",
       "3     Isangel -19.55  169.27     77.00        83          40       11.41   \n",
       "4       Bluff -46.60  168.33     39.00        83           0        3.00   \n",
       "\n",
       "  Country        Date  \n",
       "0      RU  1595802360  \n",
       "1      VN  1595802496  \n",
       "2      IT  1595802496  \n",
       "3      VU  1595802273  \n",
       "4      NZ  1595802229  "
      ]
     },
     "execution_count": 2,
     "metadata": {},
     "output_type": "execute_result"
    }
   ],
   "source": [
    "df = pd.read_csv(\"../Outputs/WeatherPy/Raw_Data.csv\")\n",
    "df = df.drop(\"Unnamed: 0\",axis=1)\n",
    "df.head()"
   ]
  },
  {
   "cell_type": "markdown",
   "metadata": {},
   "source": [
    "### Humidity Heatmap\n",
    "* Configure gmaps.\n",
    "* Using the Lat and Lng as locations and Humidity as the weight.\n",
    "* Add Heatmap layer to map."
   ]
  },
  {
   "cell_type": "code",
   "execution_count": 3,
   "metadata": {},
   "outputs": [],
   "source": [
    "gmaps.configure(api_key=g_key)"
   ]
  },
  {
   "cell_type": "code",
   "execution_count": 4,
   "metadata": {},
   "outputs": [
    {
     "data": {
      "application/vnd.jupyter.widget-view+json": {
       "model_id": "9bc11f9c33b24d46ba8f39092c55a9b3",
       "version_major": 2,
       "version_minor": 0
      },
      "text/plain": [
       "Figure(layout=FigureLayout(height='420px'))"
      ]
     },
     "metadata": {},
     "output_type": "display_data"
    }
   ],
   "source": [
    "locations = df[[\"Lat\",\"Lng\"]]\n",
    "weights = df[\"Humidity\"].astype(float)\n",
    "fig = gmaps.figure()\n",
    "heat_layer = gmaps.heatmap_layer(locations, weights=weights, dissipating=False, max_intensity=100,point_radius = 3)\n",
    "fig.add_layer(heat_layer)\n",
    "fig"
   ]
  },
  {
   "cell_type": "markdown",
   "metadata": {},
   "source": [
    "### Find ideal vacation destinations based on weather\n",
    "* Narrow down the cities to fit weather conditions.\n",
    "* Add a \"Hotel Name\" column to the DataFrame.\n",
    "* Store into variable named `hotel_df`."
   ]
  },
  {
   "cell_type": "code",
   "execution_count": 5,
   "metadata": {},
   "outputs": [
    {
     "data": {
      "text/html": [
       "<div>\n",
       "<style scoped>\n",
       "    .dataframe tbody tr th:only-of-type {\n",
       "        vertical-align: middle;\n",
       "    }\n",
       "\n",
       "    .dataframe tbody tr th {\n",
       "        vertical-align: top;\n",
       "    }\n",
       "\n",
       "    .dataframe thead th {\n",
       "        text-align: right;\n",
       "    }\n",
       "</style>\n",
       "<table border=\"1\" class=\"dataframe\">\n",
       "  <thead>\n",
       "    <tr style=\"text-align: right;\">\n",
       "      <th></th>\n",
       "      <th>City</th>\n",
       "      <th>Lat</th>\n",
       "      <th>Lng</th>\n",
       "      <th>Max Temp</th>\n",
       "      <th>Humidity</th>\n",
       "      <th>Cloudiness</th>\n",
       "      <th>Wind Speed</th>\n",
       "      <th>Country</th>\n",
       "      <th>Date</th>\n",
       "      <th>Hotel Name</th>\n",
       "    </tr>\n",
       "  </thead>\n",
       "  <tbody>\n",
       "    <tr>\n",
       "      <th>146</th>\n",
       "      <td>Bilibino</td>\n",
       "      <td>68.05</td>\n",
       "      <td>166.44</td>\n",
       "      <td>79.65</td>\n",
       "      <td>29</td>\n",
       "      <td>5</td>\n",
       "      <td>24.11</td>\n",
       "      <td>RU</td>\n",
       "      <td>1595802360</td>\n",
       "      <td></td>\n",
       "    </tr>\n",
       "    <tr>\n",
       "      <th>194</th>\n",
       "      <td>Zatoka</td>\n",
       "      <td>46.07</td>\n",
       "      <td>30.47</td>\n",
       "      <td>82.00</td>\n",
       "      <td>28</td>\n",
       "      <td>20</td>\n",
       "      <td>11.18</td>\n",
       "      <td>UA</td>\n",
       "      <td>1595802567</td>\n",
       "      <td></td>\n",
       "    </tr>\n",
       "    <tr>\n",
       "      <th>306</th>\n",
       "      <td>Salihli</td>\n",
       "      <td>38.48</td>\n",
       "      <td>28.15</td>\n",
       "      <td>77.00</td>\n",
       "      <td>10</td>\n",
       "      <td>0</td>\n",
       "      <td>58.00</td>\n",
       "      <td>TR</td>\n",
       "      <td>1595802609</td>\n",
       "      <td></td>\n",
       "    </tr>\n",
       "    <tr>\n",
       "      <th>340</th>\n",
       "      <td>Kumul</td>\n",
       "      <td>42.80</td>\n",
       "      <td>93.45</td>\n",
       "      <td>82.17</td>\n",
       "      <td>19</td>\n",
       "      <td>0</td>\n",
       "      <td>18.12</td>\n",
       "      <td>CN</td>\n",
       "      <td>1595802396</td>\n",
       "      <td></td>\n",
       "    </tr>\n",
       "    <tr>\n",
       "      <th>485</th>\n",
       "      <td>Bozeman</td>\n",
       "      <td>45.68</td>\n",
       "      <td>-111.04</td>\n",
       "      <td>82.99</td>\n",
       "      <td>28</td>\n",
       "      <td>1</td>\n",
       "      <td>6.93</td>\n",
       "      <td>US</td>\n",
       "      <td>1595802678</td>\n",
       "      <td></td>\n",
       "    </tr>\n",
       "    <tr>\n",
       "      <th>524</th>\n",
       "      <td>Ubari</td>\n",
       "      <td>26.59</td>\n",
       "      <td>12.78</td>\n",
       "      <td>82.67</td>\n",
       "      <td>17</td>\n",
       "      <td>0</td>\n",
       "      <td>6.93</td>\n",
       "      <td>LY</td>\n",
       "      <td>1595802692</td>\n",
       "      <td></td>\n",
       "    </tr>\n",
       "  </tbody>\n",
       "</table>\n",
       "</div>"
      ],
      "text/plain": [
       "         City    Lat     Lng  Max Temp  Humidity  Cloudiness  Wind Speed  \\\n",
       "146  Bilibino  68.05  166.44     79.65        29           5       24.11   \n",
       "194    Zatoka  46.07   30.47     82.00        28          20       11.18   \n",
       "306   Salihli  38.48   28.15     77.00        10           0       58.00   \n",
       "340     Kumul  42.80   93.45     82.17        19           0       18.12   \n",
       "485   Bozeman  45.68 -111.04     82.99        28           1        6.93   \n",
       "524     Ubari  26.59   12.78     82.67        17           0        6.93   \n",
       "\n",
       "    Country        Date Hotel Name  \n",
       "146      RU  1595802360             \n",
       "194      UA  1595802567             \n",
       "306      TR  1595802609             \n",
       "340      CN  1595802396             \n",
       "485      US  1595802678             \n",
       "524      LY  1595802692             "
      ]
     },
     "execution_count": 5,
     "metadata": {},
     "output_type": "execute_result"
    }
   ],
   "source": [
    "hotel_df = df.loc[(df[\"Max Temp\"]<=85) & (df[\"Max Temp\"]>=70) & (df[\"Humidity\"]<=30) & (df[\"Cloudiness\"]<=20),:]\n",
    "hotel_df[\"Hotel Name\"] = \"\"\n",
    "hotel_df"
   ]
  },
  {
   "cell_type": "markdown",
   "metadata": {},
   "source": [
    "### Hotel Map\n",
    "* Set parameters to search for hotels with 5000 meters of choice locations.\n",
    "* Hit the Google Places API for each city's coordinates.\n",
    "* Store the first Hotel result into the DataFrame.\n",
    "* Plot markers on top of the heatmap."
   ]
  },
  {
   "cell_type": "code",
   "execution_count": 6,
   "metadata": {},
   "outputs": [
    {
     "name": "stdout",
     "output_type": "stream",
     "text": [
      "No hotel found for location: Ubari\n"
     ]
    }
   ],
   "source": [
    "radius = 5000\n",
    "keyword = \"hotel\"\n",
    "base_url = f\"https://maps.googleapis.com/maps/api/place/nearbysearch/json?key={g_key}&\"\n",
    "\n",
    "# Find hotel information at desired locations\n",
    "for index, row in hotel_df.iterrows():\n",
    "    response = requests.get(f\"{base_url}location={f'{row.Lat},{row.Lng}'}&radius={radius}&keyword={keyword}\")\n",
    "    try:\n",
    "        hotel_df.loc[index,\"Hotel Name\"] = response.json()[\"results\"][0][\"name\"]\n",
    "    except:\n",
    "        print(f\"No hotel found for location: {row['City']}\")\n",
    "        \n",
    "# Eliminate locations without any hotel results\n",
    "hotel_df = hotel_df.loc[hotel_df[\"Hotel Name\"]!=\"\",:]"
   ]
  },
  {
   "cell_type": "code",
   "execution_count": 7,
   "metadata": {},
   "outputs": [
    {
     "data": {
      "text/html": [
       "<div>\n",
       "<style scoped>\n",
       "    .dataframe tbody tr th:only-of-type {\n",
       "        vertical-align: middle;\n",
       "    }\n",
       "\n",
       "    .dataframe tbody tr th {\n",
       "        vertical-align: top;\n",
       "    }\n",
       "\n",
       "    .dataframe thead th {\n",
       "        text-align: right;\n",
       "    }\n",
       "</style>\n",
       "<table border=\"1\" class=\"dataframe\">\n",
       "  <thead>\n",
       "    <tr style=\"text-align: right;\">\n",
       "      <th></th>\n",
       "      <th>City</th>\n",
       "      <th>Lat</th>\n",
       "      <th>Lng</th>\n",
       "      <th>Max Temp</th>\n",
       "      <th>Humidity</th>\n",
       "      <th>Cloudiness</th>\n",
       "      <th>Wind Speed</th>\n",
       "      <th>Country</th>\n",
       "      <th>Date</th>\n",
       "      <th>Hotel Name</th>\n",
       "    </tr>\n",
       "  </thead>\n",
       "  <tbody>\n",
       "    <tr>\n",
       "      <th>146</th>\n",
       "      <td>Bilibino</td>\n",
       "      <td>68.05</td>\n",
       "      <td>166.44</td>\n",
       "      <td>79.65</td>\n",
       "      <td>29</td>\n",
       "      <td>5</td>\n",
       "      <td>24.11</td>\n",
       "      <td>RU</td>\n",
       "      <td>1595802360</td>\n",
       "      <td>Profilaktoriy Baes</td>\n",
       "    </tr>\n",
       "    <tr>\n",
       "      <th>194</th>\n",
       "      <td>Zatoka</td>\n",
       "      <td>46.07</td>\n",
       "      <td>30.47</td>\n",
       "      <td>82.00</td>\n",
       "      <td>28</td>\n",
       "      <td>20</td>\n",
       "      <td>11.18</td>\n",
       "      <td>UA</td>\n",
       "      <td>1595802567</td>\n",
       "      <td>Prybii</td>\n",
       "    </tr>\n",
       "    <tr>\n",
       "      <th>306</th>\n",
       "      <td>Salihli</td>\n",
       "      <td>38.48</td>\n",
       "      <td>28.15</td>\n",
       "      <td>77.00</td>\n",
       "      <td>10</td>\n",
       "      <td>0</td>\n",
       "      <td>58.00</td>\n",
       "      <td>TR</td>\n",
       "      <td>1595802609</td>\n",
       "      <td>Hotel Lidya Sardes</td>\n",
       "    </tr>\n",
       "    <tr>\n",
       "      <th>340</th>\n",
       "      <td>Kumul</td>\n",
       "      <td>42.80</td>\n",
       "      <td>93.45</td>\n",
       "      <td>82.17</td>\n",
       "      <td>19</td>\n",
       "      <td>0</td>\n",
       "      <td>18.12</td>\n",
       "      <td>CN</td>\n",
       "      <td>1595802396</td>\n",
       "      <td>Back Hotel</td>\n",
       "    </tr>\n",
       "    <tr>\n",
       "      <th>485</th>\n",
       "      <td>Bozeman</td>\n",
       "      <td>45.68</td>\n",
       "      <td>-111.04</td>\n",
       "      <td>82.99</td>\n",
       "      <td>28</td>\n",
       "      <td>1</td>\n",
       "      <td>6.93</td>\n",
       "      <td>US</td>\n",
       "      <td>1595802678</td>\n",
       "      <td>Holiday Inn Bozeman</td>\n",
       "    </tr>\n",
       "  </tbody>\n",
       "</table>\n",
       "</div>"
      ],
      "text/plain": [
       "         City    Lat     Lng  Max Temp  Humidity  Cloudiness  Wind Speed  \\\n",
       "146  Bilibino  68.05  166.44     79.65        29           5       24.11   \n",
       "194    Zatoka  46.07   30.47     82.00        28          20       11.18   \n",
       "306   Salihli  38.48   28.15     77.00        10           0       58.00   \n",
       "340     Kumul  42.80   93.45     82.17        19           0       18.12   \n",
       "485   Bozeman  45.68 -111.04     82.99        28           1        6.93   \n",
       "\n",
       "    Country        Date           Hotel Name  \n",
       "146      RU  1595802360   Profilaktoriy Baes  \n",
       "194      UA  1595802567               Prybii  \n",
       "306      TR  1595802609   Hotel Lidya Sardes  \n",
       "340      CN  1595802396           Back Hotel  \n",
       "485      US  1595802678  Holiday Inn Bozeman  "
      ]
     },
     "execution_count": 7,
     "metadata": {},
     "output_type": "execute_result"
    }
   ],
   "source": [
    "hotel_df"
   ]
  },
  {
   "cell_type": "code",
   "execution_count": 8,
   "metadata": {},
   "outputs": [],
   "source": [
    "# NOTE: Do not change any of the code in this cell\n",
    "# Using the template add the hotel marks to the heatmap\n",
    "info_box_template = \"\"\"\n",
    "<dl>\n",
    "<dt>Name</dt><dd>{Hotel Name}</dd>\n",
    "<dt>City</dt><dd>{City}</dd>\n",
    "<dt>Country</dt><dd>{Country}</dd>\n",
    "</dl>\n",
    "\"\"\"\n",
    "# Store the DataFrame Row\n",
    "hotel_info = [info_box_template.format(**row) for index, row in hotel_df.iterrows()]\n",
    "hotel_locations = hotel_df[[\"Lat\", \"Lng\"]]"
   ]
  },
  {
   "cell_type": "code",
   "execution_count": 9,
   "metadata": {},
   "outputs": [
    {
     "data": {
      "application/vnd.jupyter.widget-view+json": {
       "model_id": "4d4ba0736c0e4693bbaaadde0711a87b",
       "version_major": 2,
       "version_minor": 0
      },
      "text/plain": [
       "Figure(layout=FigureLayout(height='420px'))"
      ]
     },
     "metadata": {},
     "output_type": "display_data"
    }
   ],
   "source": [
    "# Add marker layer ontop of heat map\n",
    "locations = df[[\"Lat\",\"Lng\"]]\n",
    "weights = df[\"Humidity\"].astype(float)\n",
    "fig = gmaps.figure()\n",
    "heat_layer = gmaps.heatmap_layer(locations, weights=weights, dissipating=False, max_intensity=100,point_radius = 3)\n",
    "marker_layer = gmaps.marker_layer(hotel_locations, info_box_content=hotel_info)\n",
    "fig.add_layer(heat_layer)\n",
    "fig.add_layer(marker_layer)\n",
    "fig"
   ]
  },
  {
   "cell_type": "code",
   "execution_count": null,
   "metadata": {},
   "outputs": [],
   "source": []
  }
 ],
 "metadata": {
  "kernelspec": {
   "display_name": "Python 3",
   "language": "python",
   "name": "python3"
  },
  "language_info": {
   "codemirror_mode": {
    "name": "ipython",
    "version": 3
   },
   "file_extension": ".py",
   "mimetype": "text/x-python",
   "name": "python",
   "nbconvert_exporter": "python",
   "pygments_lexer": "ipython3",
   "version": "3.7.6"
  },
  "latex_envs": {
   "LaTeX_envs_menu_present": true,
   "autoclose": false,
   "autocomplete": true,
   "bibliofile": "biblio.bib",
   "cite_by": "apalike",
   "current_citInitial": 1,
   "eqLabelWithNumbers": true,
   "eqNumInitial": 1,
   "hotkeys": {
    "equation": "Ctrl-E",
    "itemize": "Ctrl-I"
   },
   "labels_anchors": false,
   "latex_user_defs": false,
   "report_style_numbering": false,
   "user_envs_cfg": false
  }
 },
 "nbformat": 4,
 "nbformat_minor": 2
}
